{
  "nbformat": 4,
  "nbformat_minor": 0,
  "metadata": {
    "colab": {
      "provenance": []
    },
    "kernelspec": {
      "name": "python3",
      "display_name": "Python 3"
    },
    "language_info": {
      "name": "python"
    }
  },
  "cells": [
    {
      "cell_type": "code",
      "source": [
        "from sklearn.preprocessing import StandardScaler\n",
        "from sklearn.model_selection import train_test_split\n",
        "from imblearn.over_sampling import SMOTE\n",
        "\n",
        "from sklearn.linear_model import LogisticRegression\n",
        "from sklearn.ensemble import GradientBoostingClassifier\n",
        "from sklearn.metrics import confusion_matrix\n",
        "\n",
        "import matplotlib.pyplot as plt\n",
        "import seaborn as sns\n",
        "import pandas as pd\n",
        "\n",
        "import warnings\n",
        "warnings.filterwarnings(\"ignore\")"
      ],
      "metadata": {
        "id": "bYwbGLzhtjGu"
      },
      "execution_count": 4,
      "outputs": []
    },
    {
      "cell_type": "markdown",
      "source": [
        "En el siguiente scrip validamos la hipotesis: Se puede mejorar la eficiencia del modelo aplicando técnicas de balanceo?\n",
        "\n",
        "Para ello graficaremos las matrices de confusion:\n",
        "1.   Usaremos el modelo original con la data original.\n",
        "2.   Usaremos el modelo original entrenado con data aumentada con tecnicas de sobremuestreo.\n",
        "\n",
        "En donde se puede concluir que el uso de técnicas de sobremuestreo mejora el performance del modelo."
      ],
      "metadata": {
        "id": "TMIAoVU6FJHI"
      }
    },
    {
      "cell_type": "code",
      "execution_count": 2,
      "metadata": {
        "colab": {
          "base_uri": "https://localhost:8080/",
          "height": 319
        },
        "id": "N7luN_Fpsvqm",
        "outputId": "cf07cf3d-9b99-490f-f6df-d0e66557d052"
      },
      "outputs": [
        {
          "output_type": "execute_result",
          "data": {
            "text/plain": [
              "Text(0.5, 22.26545454545454, 'Predict label')"
            ]
          },
          "metadata": {},
          "execution_count": 2
        },
        {
          "output_type": "display_data",
          "data": {
            "text/plain": [
              "<Figure size 576x288 with 2 Axes>"
            ],
            "image/png": "[encoded data removed]"
          },
          "metadata": {
            "needs_background": "light"
          }
        }
      ],
      "source": [
        "# Cargar dataframe\n",
        "df = pd.read_csv(\"data/raw/churn.csv\")\n",
        "df.drop(['RowNumber', 'CustomerId', 'Surname'], axis=1, inplace=True)\n",
        "\n",
        "df['Gender'] = df['Gender'].apply(lambda x: 1 if x=='Female' else 0)\n",
        "df = pd.get_dummies(df)\n",
        "\n",
        "x = df.drop('Exited', axis=1)\n",
        "y = df['Exited']\n",
        "\n",
        "# Dividir el dataset \n",
        "x_train, x_test, y_train, y_test = train_test_split( x, y, train_size=0.8, random_state=42)\n",
        "\n",
        "# Aumentar el conjunto de datos con SMOTE (Técnica de sobremuestreo de minorías sintéticas)\n",
        "oversample = SMOTE()\n",
        "x_smote, y_smote = oversample.fit_resample(x_train, y_train)\n",
        "\n",
        "# Crear el modelo y entrenarlo\n",
        "clf_orig =  LogisticRegression(random_state=0, solver='lbfgs', multi_class='multinomial').fit(x_train, y_train)\n",
        "clf_smote =  LogisticRegression(random_state=0, solver='lbfgs', multi_class='multinomial').fit(x_smote, y_smote)\n",
        "\n",
        "# Generar las matrices de confusion con los 2 casos respectivos (Sin técnicas de aumento, Usando técnicas de aumento)\n",
        "cm = confusion_matrix(y_test, clf_orig.predict(x_test))\n",
        "cm_smote = confusion_matrix(y_test, clf_smote.predict(x_test))\n",
        "\n",
        "# Mostrar los heatmaps con los resultados\n",
        "fig, axes = plt.subplots(1, 2, figsize=(8, 4), sharey=True)\n",
        "fig.suptitle('MODEL: Regression logistic')\n",
        "\n",
        "sns.heatmap(cm, annot=True, vmin=0, fmt='.0f', cbar=False, linewidths=.5, square=True, cmap='coolwarm', ax=axes[0])\n",
        "axes[0].set_title('Resultados sin aumento')\n",
        "axes[0].set_ylabel('Real label')\n",
        "axes[0].set_xlabel('Predict label') \n",
        "\n",
        "sns.heatmap(cm_smote, annot=True, vmin=0, fmt='.0f', cbar=False, linewidths=.5, square=True, cmap='coolwarm', ax=axes[1])\n",
        "axes[1].set_title('Resultados con técnicas de aumento')\n",
        "axes[1].set_xlabel('Predict label')"
      ]
    },
    {
      "cell_type": "markdown",
      "source": [
        "En el siguiente scrip validamos la hipotesis: Qué importancia tiene estandarizar (StandardScaler) los datos de prueba del modelo?\n",
        "\n",
        "Para ello usaremos 3 casos distintos y graficaremos las matrices de confusion:\n",
        "1.   Usamos el scaler de los datos de train, en el conjunto de datos de test.\n",
        "2.   Usaremos un scaler que solo posee los datos de test.\n",
        "3.   NO estandarizamos los datos de test.\n",
        "\n",
        "Dando como resultado la importancia que tiene en el performance del modelo estandarizar los datos y la poca diferencia que hay entre estandarizar el conjunto de test con un scaler propio o el usado en los datos de train."
      ],
      "metadata": {
        "id": "lO5T3N7hU43R"
      }
    },
    {
      "cell_type": "code",
      "source": [
        "# Cargar dataframe\n",
        "df = pd.read_csv(\"data/raw/churn.csv\")\n",
        "df.drop(['RowNumber', 'CustomerId', 'Surname'], axis=1, inplace=True)\n",
        "\n",
        "df['Gender'] = df['Gender'].apply(lambda x: 1 if x=='Female' else 0)\n",
        "df = pd.get_dummies(df)\n",
        "\n",
        "x = df.drop('Exited', axis=1)\n",
        "y = df['Exited']\n",
        "\n",
        "# Aumentar el conjunto de datos con SMOTE (Técnica de sobremuestreo de minorías sintéticas)\n",
        "oversample = SMOTE()\n",
        "x_smote, y_smote = oversample.fit_resample(x, y)\n",
        "\n",
        "# Dividir la data en train y test\n",
        "x_train, x_test, y_train, y_test = train_test_split(x_smote, y_smote, train_size=0.8, random_state=42, shuffle=True)\n",
        "\n",
        "# Estandarizar la data de train y la data de test estandarizada con el scaler de los datos de train y otro\n",
        "#   con un scaler propio de los datos de test\n",
        "scaler = StandardScaler().fit(x_train)\n",
        "x_train = scaler.transform(x_train)\n",
        "\n",
        "x_test_scaledp = StandardScaler().fit_transform(x_test)\n",
        "x_test_scaledc = scaler.transform(x_test)\n",
        "\n",
        "# Usaremos el GradientBoostingClassifier como modelo\n",
        "modelo = GradientBoostingClassifier().fit(x_train, y_train)\n",
        "\n",
        "# Generar las 3 matrices de confusion con los 3 casos respectivos (scaler train-test, scaler test y sin scaler)\n",
        "cm = confusion_matrix(y_test, modelo.predict(x_test_scaledc))\n",
        "cm_scaled = confusion_matrix(y_test, modelo.predict(x_test_scaledp))\n",
        "cm_without = confusion_matrix(y_test, modelo.predict(x_test))\n",
        "\n",
        "# Mostrar los heatmaps con los resultados\n",
        "fig, axes = plt.subplots(1, 3, figsize=(12, 4), sharey=True)\n",
        "fig.suptitle('MODEL: GRADIENT BOOSTING')\n",
        "\n",
        "sns.heatmap(cm, annot=True, vmin=0, fmt='.0f', cbar=False, linewidths=.5, square=True, cmap='coolwarm', ax=axes[0])\n",
        "axes[0].set_title('Resultados scaler train')\n",
        "axes[0].set_ylabel('Real label')\n",
        "axes[0].set_xlabel('Predict label') \n",
        "\n",
        "sns.heatmap(cm_scaled, annot=True, vmin=0, fmt='.0f', cbar=False, linewidths=.5, square=True, cmap='coolwarm', ax=axes[1])\n",
        "axes[1].set_title('Resultados scaler test')\n",
        "axes[1].set_xlabel('Predict label')\n",
        "\n",
        "sns.heatmap(cm_without, annot=True, vmin=0, fmt='.0f', cbar=False, linewidths=.5, square=True, cmap='coolwarm', ax=axes[2])\n",
        "axes[2].set_title('Resultados sin scaler')\n",
        "axes[2].set_xlabel('Predict label')"
      ],
      "metadata": {
        "colab": {
          "base_uri": "https://localhost:8080/",
          "height": 316
        },
        "id": "ptHBwYtetJk1",
        "outputId": "8a889e5d-c2f7-40c9-b0ac-4b7e068a9dac"
      },
      "execution_count": 5,
      "outputs": [
        {
          "output_type": "execute_result",
          "data": {
            "text/plain": [
              "Text(0.5, 25.249411764705847, 'Predict label')"
            ]
          },
          "metadata": {},
          "execution_count": 5
        },
        {
          "output_type": "display_data",
          "data": {
            "text/plain": [
              "<Figure size 864x288 with 3 Axes>"
            ],
            "image/png": "[encoded data removed]"
          },
          "metadata": {
            "needs_background": "light"
          }
        }
      ]
    }
  ]
}